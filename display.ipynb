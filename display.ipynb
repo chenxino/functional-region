{
 "cells": [
  {
   "cell_type": "code",
   "execution_count": 2,
   "metadata": {
    "collapsed": true
   },
   "outputs": [],
   "source": [
    "% matplotlib inline"
   ]
  },
  {
   "cell_type": "code",
   "execution_count": 3,
   "metadata": {},
   "outputs": [
    {
     "data": {
      "image/png": "[encoded data removed]",
      "text/plain": [
       "<matplotlib.figure.Figure at 0x7fd72d3c5dd8>"
      ]
     },
     "metadata": {},
     "output_type": "display_data"
    }
   ],
   "source": [
    "import cv2\n",
    "import numpy as np\n",
    "from matplotlib import pyplot as plt\n",
    "from pprint import pprint\n",
    "import os\n",
    "\n",
    "from skimage import measure\n",
    "from skimage import filters\n",
    "import geopandas as gpd\n",
    "from raster_to_polygon_to_geojson import raster2geojson\n",
    "\n",
    "def binarize(img):\n",
    "    return cv2.adaptiveThreshold(img, 255, cv2.ADAPTIVE_THRESH_MEAN_C, cv2.THRESH_BINARY, 5, 10)\n",
    "\n",
    "\n",
    "def map_segment(map_src):\n",
    "    img = cv2.imread(map_src, 0)\n",
    "    binary_img = 255 - binarize(img)\n",
    "    plt.figure('original')\n",
    "    plt.imshow(binary_img, cmap='gray')\n",
    "    kernel = np.ones((5,5), np.uint8)\n",
    "    dilated = cv2.dilate(binary_img, kernel, iterations = 1)\n",
    "    #pprint(dilated)\n",
    "    dilated = dilated / 255\n",
    "    #img_after = zhangSuen(dilated)\n",
    "    #img_after = bwmorph_thin(dilated)\n",
    "    dilated_src = os.path.join(os.path.dirname(map_src), 'dilated.tiff')\n",
    "    cv2.imwrite(dilated_src, dilated)\n",
    "    #os.system(\"/home/dlbox/Documents/func_region/Code/voronoi/build/src/voronoi thin/home/dlbox/Documents/func_region/Code/voronoi/build/src\" + \" zhang_suen_fast \" + dilated_src)\n",
    "    img_after = cv2.imread(dilated_src, 0)\n",
    "\n",
    "    plt.figure('dilated')\n",
    "    plt.imshow(dilated, cmap='gray')    \n",
    "\n",
    "    plt.figure('processed')\n",
    "    plt.imshow(img_after, cmap='gray')\n",
    "    plt.show()\n",
    "\n",
    "def ccl(map_src, connectivity=None):\n",
    "    img = cv2.imread(map_src, 0)\n",
    "    blobs =  binarize(img)\n",
    "\n",
    "    kernel = np.ones((10,10), np.float32) / 25\n",
    "    smoothed = cv2.filter2D(blobs, -1, kernel)\n",
    "    plt.figure('smoothed')\n",
    "    plt.imshow(smoothed)\n",
    "    blobs = blobs / 255\n",
    "    #all_labels = measure.label(blobs, connectivity=2)\n",
    "    blobs_labels = measure.label(blobs, neighbors=8,connectivity=1, background=0)\n",
    "\n",
    "    \"\"\"\n",
    "    plt.figure(figsize=(9, 3.5), facecolor='None')\n",
    "    plt.subplot(131)\n",
    "    plt.imshow(blobs, cmap='gray')\n",
    "    plt.axis('off')\n",
    "    plt.subplot(132)\n",
    "    plt.imshow(all_labels, cmap='spectral')\n",
    "    plt.axis('off')\n",
    "    plt.subplot(133)\n",
    "    \"\"\"\n",
    "    plt.figure('ccl')\n",
    "    plt.imshow(blobs_labels, cmap='spectral')\n",
    "    plt.axis('off')\n",
    "    plt.show()\n",
    "\n",
    "    #cv2.imwrite(os.path.join(os.path.dirname(map_src), 'labeled_map.tiff'), blobs_labels, cmap='spectral')\n",
    "\n",
    "def geopd(src):\n",
    "    roadnet = gpd.read_file(src)\n",
    "    roadnet.plot();\n",
    "    \n",
    "def main():\n",
    "    img_src = '../Data/Temp/raster_map.tiff'\n",
    "    img_src_2 = '/home/dlbox/Documents/func_region/Data/Temp/map_segmented.png'\n",
    "    gjson_src = '../Data/Temp/polygon.json'\n",
    "    ## segment regions using roadnetwork\n",
    "    #map_segment(img_src)\n",
    "\n",
    "    ## connect component labeling\n",
    "    #ccl(img_src_2)\n",
    "\n",
    "    #raster2geojson(img_src_2)\n",
    "    geopd('/home/dlbox/Documents/func_region/Out/Map/QGIS/map_segmented.shp') \n",
    "\n",
    "if __name__ == '__main__':\n",
    "    main()"
   ]
  },
  {
   "cell_type": "code",
   "execution_count": null,
   "metadata": {
    "collapsed": true
   },
   "outputs": [],
   "source": []
  }
 ],
 "metadata": {
  "kernelspec": {
   "display_name": "Python 3",
   "language": "python",
   "name": "python3"
  },
  "language_info": {
   "codemirror_mode": {
    "name": "ipython",
    "version": 3
   },
   "file_extension": ".py",
   "mimetype": "text/x-python",
   "name": "python",
   "nbconvert_exporter": "python",
   "pygments_lexer": "ipython3",
   "version": "3.6.3"
  }
 },
 "nbformat": 4,
 "nbformat_minor": 2
}
